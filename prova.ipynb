{
 "cells": [
  {
   "cell_type": "markdown",
   "metadata": {},
   "source": [
    "### Results"
   ]
  },
  {
   "cell_type": "code",
   "execution_count": null,
   "metadata": {
    "vscode": {
     "languageId": "plaintext"
    }
   },
   "outputs": [],
   "source": [
    "modello originale:\n",
    "(con resnet)\n",
    "cd: 0.000895\n",
    "f1_tau: 0.393849\n",
    "f1_2tau: 0.564412\n",
    "\n",
    "\n",
    "modello originale \n",
    "(con vvg16)\n",
    "\n",
    "Test [005473] cd: 0.000498\n",
    "Test [005473] f1_tau: 0.642192\n",
    "Test [005473] f1_2tau: 0.780347\n",
    "\n",
    "\n",
    "\n",
    "metriche modello CON pesi 2 epochs\n",
    "Test [005473] cd: 0.000524\n",
    "Test [005473] f1_tau: 0.624824\n",
    "Test [005473] f1_2tau: 0.767141\n",
    "\n",
    "\n",
    "\n",
    "\n",
    "\n",
    "metriche modello senza pesi 2 epochs\n",
    "2024-11-07 13:55:42,408 Test [005473] cd: 0.085315\n",
    "2024-11-07 13:55:42,409 Test [005473] f1_tau: 0.000181\n",
    "2024-11-07 13:55:42,409 Test [005473] f1_2tau: 0.000445\n",
    "\n",
    "\n",
    "\n",
    "\n",
    "\n",
    "\n",
    "\n",
    "\n",
    "\n",
    "\n"
   ]
  },
  {
   "cell_type": "markdown",
   "metadata": {},
   "source": [
    "### Comands\n",
    "\n"
   ]
  },
  {
   "cell_type": "code",
   "execution_count": null,
   "metadata": {
    "vscode": {
     "languageId": "plaintext"
    }
   },
   "outputs": [],
   "source": [
    "# visualize the prediction \n",
    "python entrypoint_predict.py --name nonso --options experiments/default/resnet.yml --checkpoint checkpoints/resnet.pth.tar --folder datasets/examples/\n",
    "\n",
    "\n",
    "#new training new model (beta test)\n",
    "python entrypoint_beta.py --name nonsonew --options experiments/default/tensorflow.yml --checkpoint checkpoints/tensorflow.pth.tar \n",
    "#new training new model   (new options test)\n",
    "python entrypoint_beta.py --name cestino --options experiments/default/tensorflow_mod.yml --checkpoint checkpoints/tensorflow.pth.tar --checkpoint_ga checkpoints_ga/043784_000002.pt --from_checkpoint True --my_epoch_count 2\n",
    "\n",
    "\n",
    "\n",
    "\n",
    "\n",
    "\n",
    "#evaluate original model\n",
    "python entrypoint_eval.py --name prova_0 --options experiments/default/resnet.yml --checkpoint checkpoints/resnet.pth.tar \n",
    "python entrypoint_eval.py --name test_originale0 --options experiments/default/tensorflow_mod.yml --checkpoint checkpoints/tensorflow.pth.tar \n",
    "\n",
    "\n",
    "#evaluate refinement ga\n",
    "python entrypoint_beta.py --name primaProva --options experiments/default/tensorflow_mod.yml --checkpoint checkpoints/tensorflow.pth.tar --checkpoint_ga checkpoints_ga/043784_000002.pt\n",
    "\n",
    "\n",
    "\n",
    "#new evaluation new model \n",
    "python entrypoint_eval_ga.py --name test_evaluate_0 --options experiments/default/tensorflow_mod.yml --checkpoint checkpoints/tensorflow.pth.tar --checkpoint_ga checkpoints_ga/043784_000002.pt\n",
    "python entrypoint_eval_ga.py --name test_evaluate_1 --options experiments/default/tensorflow_mod.yml --checkpoint checkpoints/tensorflow.pth.tar --checkpoint_ga checkpoints_ga/043784_000002.pt\n",
    "\n",
    "\n",
    "python entrypoint_predict.py --name nonso --options experiments/default/resnet.yml --checkpoint checkpoints/resnet.pth.tar --folder datasets/examples/\n",
    "python entrypoint_predict.py --name nonso --options experiments/default/tensorflow.yml --checkpoint checkpoints/tensorflow.pth.tar --folder datasets/examples/\n",
    "\n",
    "# new model prediction\n",
    "python entrypoint_predict_ga.py --name test_predict_0 --options experiments/default/tensorflow_mod.yml --checkpoint checkpoints/tensorflow.pth.tar --checkpoint_ga checkpoints_ga/043784_000002.pt --folder datasets/examples/\n",
    "python entrypoint_predict_ga.py --name test_predict_1 --options experiments/default/tensorflow_mod.yml --checkpoint checkpoints/tensorflow.pth.tar --checkpoint_ga checkpoints_ga/043784_000002.pt --folder datasets/examples/\n",
    "\n",
    "\n"
   ]
  },
  {
   "cell_type": "markdown",
   "metadata": {},
   "source": [
    "### MODEL MISMATCH DEBUG"
   ]
  },
  {
   "cell_type": "code",
   "execution_count": null,
   "metadata": {
    "vscode": {
     "languageId": "plaintext"
    }
   },
   "outputs": [],
   "source": [
    "\n",
    "\n",
    "Eval missing key\n",
    "sto qua (DataParallel):\n",
    "missing key =>  _IncompatibleKeys(missing_keys=['gcns.0.blocks.0.conv1.adj_mat', 'gcns.0.blocks.0.conv2.adj_mat', 'gcns.0.blocks.1.conv1.adj_mat', 'gcns.0.blocks.1.conv2.adj_mat', 'gcns.0.blocks.2.conv1.adj_mat', 'gcns.0.blocks.2.conv2.adj_mat', 'gcns.0.blocks.3.conv1.adj_mat', 'gcns.0.blocks.3.conv2.adj_mat', 'gcns.0.blocks.4.conv1.adj_mat', 'gcns.0.blocks.4.conv2.adj_mat', 'gcns.0.blocks.5.conv1.adj_mat', 'gcns.0.blocks.5.conv2.adj_mat', 'gcns.0.conv1.adj_mat', 'gcns.0.conv2.adj_mat', 'gcns.1.blocks.0.conv1.adj_mat', 'gcns.1.blocks.0.conv2.adj_mat', 'gcns.1.blocks.1.conv1.adj_mat', 'gcns.1.blocks.1.conv2.adj_mat', 'gcns.1.blocks.2.conv1.adj_mat', 'gcns.1.blocks.2.conv2.adj_mat', 'gcns.1.blocks.3.conv1.adj_mat', 'gcns.1.blocks.3.conv2.adj_mat', 'gcns.1.blocks.4.conv1.adj_mat', 'gcns.1.blocks.4.conv2.adj_mat', 'gcns.1.blocks.5.conv1.adj_mat', 'gcns.1.blocks.5.conv2.adj_mat', 'gcns.1.conv1.adj_mat', 'gcns.1.conv2.adj_mat', 'gcns.2.blocks.0.conv1.adj_mat', 'gcns.2.blocks.0.conv2.adj_mat', 'gcns.2.blocks.1.conv1.adj_mat', 'gcns.2.blocks.1.conv2.adj_mat', 'gcns.2.blocks.2.conv1.adj_mat', 'gcns.2.blocks.2.conv2.adj_mat', 'gcns.2.blocks.3.conv1.adj_mat', 'gcns.2.blocks.3.conv2.adj_mat', 'gcns.2.blocks.4.conv1.adj_mat', 'gcns.2.blocks.4.conv2.adj_mat', 'gcns.2.blocks.5.conv1.adj_mat', 'gcns.2.blocks.5.conv2.adj_mat', 'gcns.2.conv1.adj_mat', 'gcns.2.conv2.adj_mat', 'gconv.adj_mat'], unexpected_keys=[])\n",
    "\n",
    "predict missing key\n",
    "sto qua ():\n",
    "missing key =>  _IncompatibleKeys(missing_keys=['gcns.0.blocks.0.conv1.adj_mat', 'gcns.0.blocks.0.conv2.adj_mat', 'gcns.0.blocks.1.conv1.adj_mat', 'gcns.0.blocks.1.conv2.adj_mat', 'gcns.0.blocks.2.conv1.adj_mat', 'gcns.0.blocks.2.conv2.adj_mat', 'gcns.0.blocks.3.conv1.adj_mat', 'gcns.0.blocks.3.conv2.adj_mat', 'gcns.0.blocks.4.conv1.adj_mat', 'gcns.0.blocks.4.conv2.adj_mat', 'gcns.0.blocks.5.conv1.adj_mat', 'gcns.0.blocks.5.conv2.adj_mat', 'gcns.0.conv1.adj_mat', 'gcns.0.conv2.adj_mat', 'gcns.1.blocks.0.conv1.adj_mat', 'gcns.1.blocks.0.conv2.adj_mat', 'gcns.1.blocks.1.conv1.adj_mat', 'gcns.1.blocks.1.conv2.adj_mat', 'gcns.1.blocks.2.conv1.adj_mat', 'gcns.1.blocks.2.conv2.adj_mat', 'gcns.1.blocks.3.conv1.adj_mat', 'gcns.1.blocks.3.conv2.adj_mat', 'gcns.1.blocks.4.conv1.adj_mat', 'gcns.1.blocks.4.conv2.adj_mat', 'gcns.1.blocks.5.conv1.adj_mat', 'gcns.1.blocks.5.conv2.adj_mat', 'gcns.1.conv1.adj_mat', 'gcns.1.conv2.adj_mat', 'gcns.2.blocks.0.conv1.adj_mat', 'gcns.2.blocks.0.conv2.adj_mat', 'gcns.2.blocks.1.conv1.adj_mat', 'gcns.2.blocks.1.conv2.adj_mat', 'gcns.2.blocks.2.conv1.adj_mat', 'gcns.2.blocks.2.conv2.adj_mat', 'gcns.2.blocks.3.conv1.adj_mat', 'gcns.2.blocks.3.conv2.adj_mat', 'gcns.2.blocks.4.conv1.adj_mat', 'gcns.2.blocks.4.conv2.adj_mat', 'gcns.2.blocks.5.conv1.adj_mat', 'gcns.2.blocks.5.conv2.adj_mat', 'gcns.2.conv1.adj_mat', 'gcns.2.conv2.adj_mat', 'gconv.adj_mat'], unexpected_keys=[])\n",
    "\n",
    "missing keys -> _IncompatibleKeys(missing_keys=['gcns.0.blocks.0.conv1.adj_mat', 'gcns.0.blocks.0.conv2.adj_mat', 'gcns.0.blocks.1.conv1.adj_mat', 'gcns.0.blocks.1.conv2.adj_mat', 'gcns.0.blocks.2.conv1.adj_mat', 'gcns.0.blocks.2.conv2.adj_mat', 'gcns.0.blocks.3.conv1.adj_mat', 'gcns.0.blocks.3.conv2.adj_mat', 'gcns.0.blocks.4.conv1.adj_mat', 'gcns.0.blocks.4.conv2.adj_mat', 'gcns.0.blocks.5.conv1.adj_mat', 'gcns.0.blocks.5.conv2.adj_mat', 'gcns.0.conv1.adj_mat', 'gcns.0.conv2.adj_mat', 'gcns.1.blocks.0.conv1.adj_mat', 'gcns.1.blocks.0.conv2.adj_mat', 'gcns.1.blocks.1.conv1.adj_mat', 'gcns.1.blocks.1.conv2.adj_mat', 'gcns.1.blocks.2.conv1.adj_mat', 'gcns.1.blocks.2.conv2.adj_mat', 'gcns.1.blocks.3.conv1.adj_mat', 'gcns.1.blocks.3.conv2.adj_mat', 'gcns.1.blocks.4.conv1.adj_mat', 'gcns.1.blocks.4.conv2.adj_mat', 'gcns.1.blocks.5.conv1.adj_mat', 'gcns.1.blocks.5.conv2.adj_mat', 'gcns.1.conv1.adj_mat', 'gcns.1.conv2.adj_mat', 'gcns.2.blocks.0.conv1.adj_mat', 'gcns.2.blocks.0.conv2.adj_mat', 'gcns.2.blocks.1.conv1.adj_mat', 'gcns.2.blocks.1.conv2.adj_mat', 'gcns.2.blocks.2.conv1.adj_mat', 'gcns.2.blocks.2.conv2.adj_mat', 'gcns.2.blocks.3.conv1.adj_mat', 'gcns.2.blocks.3.conv2.adj_mat', 'gcns.2.blocks.4.conv1.adj_mat', 'gcns.2.blocks.4.conv2.adj_mat', 'gcns.2.blocks.5.conv1.adj_mat', 'gcns.2.blocks.5.conv2.adj_mat', 'gcns.2.conv1.adj_mat', 'gcns.2.conv2.adj_mat', 'gconv.adj_mat'], unexpected_keys=[])\n",
    "\n",
    "\n",
    "\n"
   ]
  },
  {
   "cell_type": "markdown",
   "metadata": {},
   "source": [
    "### METRICS"
   ]
  },
  {
   "cell_type": "code",
   "execution_count": null,
   "metadata": {
    "vscode": {
     "languageId": "plaintext"
    }
   },
   "outputs": [],
   "source": [
    "original model:\n",
    "\n",
    "\n",
    "\n",
    "\n",
    "ga model:\n",
    "Test [005473] cd: 0.002267\n",
    "Test [005473] f1_tau: 0.276392\n",
    "Test [005473] f1_2tau: 0.393570"
   ]
  },
  {
   "cell_type": "code",
   "execution_count": null,
   "metadata": {
    "vscode": {
     "languageId": "plaintext"
    }
   },
   "outputs": [],
   "source": [
    "#per verificare se si due blocchi hanno gli stessi pesi:\n",
    "for param in copied_block.parameters():\n",
    "    param.requires_grad = False\n"
   ]
  },
  {
   "cell_type": "markdown",
   "metadata": {},
   "source": [
    "### CARICO DI PESI \n"
   ]
  },
  {
   "cell_type": "code",
   "execution_count": null,
   "metadata": {
    "vscode": {
     "languageId": "plaintext"
    }
   },
   "outputs": [],
   "source": [
    "def compare_parameters(source_params, target_params):\n",
    "    source_keys = set(source_params.keys())\n",
    "    target_keys = set(target_params.keys())\n",
    "\n",
    "    if source_keys == target_keys:\n",
    "        print(\"All parameters match.\")\n",
    "    else:\n",
    "        print(\"Mismatch in parameters found.\")\n",
    "        if source_keys - target_keys:\n",
    "            print(\"Extra in source:\", source_keys - target_keys)\n",
    "        if target_keys - source_keys:\n",
    "            print(\"Extra in target:\", target_keys - source_keys)\n",
    "\n",
    "# Assuming you have two dictionaries source_params and target_params from your checkpoint and model:\n",
    "compare_parameters(source_params, target_params)"
   ]
  },
  {
   "cell_type": "code",
   "execution_count": null,
   "metadata": {
    "vscode": {
     "languageId": "plaintext"
    }
   },
   "outputs": [],
   "source": [
    "_new shape torch.Size([8, 2466, 1227])                                                                                                                                                                                                                                                       | 0/21892 [00:00<?, ?it/s]\n",
    "x_new2shape torch.Size([8, 2466, 1219])\n",
    "x4.shape  torch.Size([8, 2466, 128])\n",
    "x4.shape  torch.Size([8, 2466, 3])\n",
    "\n",
    "output in ga_refinement\n",
    "\n",
    "python entrypoint_beta.py --name provaTempo --options experiments/default/tensorflow_mod.yml --checkpoint checkpoints/tensorflow.pth.tar \n"
   ]
  },
  {
   "cell_type": "markdown",
   "metadata": {},
   "source": [
    "### TIME"
   ]
  },
  {
   "cell_type": "code",
   "execution_count": null,
   "metadata": {
    "vscode": {
     "languageId": "plaintext"
    }
   },
   "outputs": [],
   "source": [
    "Risultati sul pretrained step: -------------------------------------------------------  ------------  ------------  ------------  ------------  ------------  ------------  ------------  ------------  ------------  ------------  \n",
    "                                                   Name    Self CPU %      Self CPU   CPU total %     CPU total  CPU time avg     Self CUDA   Self CUDA %    CUDA total  CUDA time avg    # of Calls  \n",
    "-------------------------------------------------------  ------------  ------------  ------------  ------------  ------------  ------------  ------------  ------------  ------------  ------------  \n",
    "                                               aten::mm        -9.25%  -19238.000us        69.56%     144.609ms     336.300us       6.064ms         8.16%      50.464ms     117.358us           430  \n",
    "                                            aten::addmm         4.72%       9.808ms        65.74%     136.664ms     397.279us      10.214ms        13.75%      43.570ms     126.657us           344  \n",
    "                                    aten::_sparse_addmm        10.53%      21.895ms        65.86%     136.920ms     398.023us       0.000us         0.00%      36.687ms     106.648us           344  \n",
    "                                        aten::_coalesce        10.13%      21.059ms        48.54%     100.907ms     293.334us      19.609ms        26.40%      26.623ms      77.392us           344  \n",
    "                                         aten::coalesce         1.31%       2.732ms        48.80%     101.441ms     294.887us       0.000us         0.00%      26.010ms      75.610us           344  \n",
    "                                            aten::copy_         5.65%      11.756ms        20.07%      41.715ms      10.484us      12.033ms        16.20%      12.036ms       3.025us          3979  \n",
    "void thrust::cuda_cub::core::_kernel_agent<thrust::c...         0.00%       0.000us         0.00%       0.000us       0.000us       7.932ms        10.68%       7.932ms      23.058us           344  \n",
    "void cusparse::load_balancing_kernel<256u, 1u, 0ul, ...         0.00%       0.000us         0.00%       0.000us       0.000us       6.647ms         8.95%       6.647ms      19.323us           344  \n",
    "                                           aten::matmul         0.17%     346.000us         1.12%       2.322ms      27.000us       0.000us         0.00%       6.064ms      70.512us            86  \n",
    "void at::native::elementwise_kernel<128, 2, at::nati...         0.00%       0.000us         0.00%       0.000us       0.000us       4.527ms         6.10%       4.527ms       6.412us           706  \n",
    "-------------------------------------------------------  ------------  ------------  ------------  ------------  ------------  ------------  ------------  ------------  ------------  ------------  \n",
    "Self CPU time total: 207.888ms\n",
    "Self CUDA time total: 74.269ms\n",
    "\n",
    "STAGE:2024-11-21 16:48:52 140067:140067 ActivityProfilerController.cpp:294] Completed Stage: Warm Up\n",
    "STAGE:2024-11-21 16:48:53 140067:140067 ActivityProfilerController.cpp:300] Completed Stage: Collection\n",
    "risultati performance di un train step: -------------------------------------------------------  ------------  ------------  ------------  ------------  ------------  ------------  ------------  ------------  ------------  ------------  \n",
    "                                                   Name    Self CPU %      Self CPU   CPU total %     CPU total  CPU time avg     Self CUDA   Self CUDA %    CUDA total  CUDA time avg    # of Calls  \n",
    "-------------------------------------------------------  ------------  ------------  ------------  ------------  ------------  ------------  ------------  ------------  ------------  ------------  \n",
    "                                               aten::mm        -3.76%  -14049.000us        35.94%     134.317ms     365.986us     110.005ms        38.99%     159.656ms     435.030us           367  \n",
    "       autograd::engine::evaluate_function: MmBackward0         0.15%     565.000us        20.08%      75.052ms     460.442us       0.000us         0.00%      99.253ms     608.914us           163  \n",
    "                                            MmBackward0         0.21%     791.000us        19.93%      74.487ms     456.975us       0.000us         0.00%      99.253ms     608.914us           163  \n",
    "                                            aten::addmm         1.17%       4.389ms        33.92%     126.765ms     489.440us      14.277ms         5.06%      48.728ms     188.139us           259  \n",
    "                                           aten::linear         0.01%      35.000us         0.11%     427.000us      71.167us       0.000us         0.00%      41.557ms       6.926ms             6  \n",
    "                                    aten::_sparse_addmm         4.69%      17.520ms        33.94%     126.822ms     495.398us       0.000us         0.00%      41.276ms     161.234us           256  \n",
    "                                           aten::matmul         0.04%     157.000us         0.33%       1.248ms      35.657us       0.000us         0.00%      36.812ms       1.052ms            35  \n",
    "                                 ampere_sgemm_128x64_tn         0.00%       0.000us         0.00%       0.000us       0.000us      29.385ms        10.42%      29.385ms     890.455us            33  \n",
    "                                        aten::_coalesce         4.44%      16.587ms        26.74%      99.937ms     390.379us      20.192ms         7.16%      25.499ms      99.605us           256  \n",
    "                                         aten::coalesce         1.23%       4.609ms        26.83%     100.247ms     391.590us       0.000us         0.00%      24.781ms      96.801us           256  \n",
    "-------------------------------------------------------  ------------  ------------  ------------  ------------  ------------  ------------  ------------  ------------  ------------  ------------  \n",
    "Self CPU time total: 373.680ms\n",
    "Self CUDA time total: 282.118ms"
   ]
  }
 ],
 "metadata": {
  "language_info": {
   "name": "python"
  }
 },
 "nbformat": 4,
 "nbformat_minor": 2
}
